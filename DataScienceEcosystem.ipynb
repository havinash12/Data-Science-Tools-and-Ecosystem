{
 "cells": [
  {
   "cell_type": "markdown",
   "id": "258a831a-527e-4e00-99cf-28ddf96fd1c2",
   "metadata": {},
   "source": [
    "# Data Science Tools and Ecosystem\n"
   ]
  },
  {
   "cell_type": "markdown",
   "id": "3dd9aa97-908b-4bbb-9163-6908f8e57327",
   "metadata": {},
   "source": [
    "In this notebook, Data Science Tools and Ecosystem are summarized."
   ]
  },
  {
   "cell_type": "markdown",
   "id": "ca7f309f-dea3-4904-989d-33345b1feaec",
   "metadata": {},
   "source": [
    "##### Some of the popular languages that Data Scientists use are:\n",
    "1. Python\n",
    "2. R\n",
    "3. Scala\n",
    "4. Java\n",
    "5. Julia\n",
    "6. SQL\n",
    "7. C++\n",
    "8. javascript\n",
    "9. php\n",
    "10. Ruby\n",
    "11. Go\n",
    "12. Visual Basic"
   ]
  },
  {
   "cell_type": "markdown",
   "id": "fc3cf96b-70bd-41e3-bf2d-8c4fa01332cd",
   "metadata": {},
   "source": [
    "##### Some of the commonly used libraries used by Data Scientists include:\n",
    "1. numpy\n",
    "2. pandas\n",
    "3. matplotlib\n",
    "4. sklearn\n",
    "5. keras\n",
    "6. Tenserflow"
   ]
  },
  {
   "cell_type": "markdown",
   "id": "8911b633-ab1f-4795-b2a4-59d72997fcb3",
   "metadata": {},
   "source": [
    "##### Data Science Tools :\n",
    "|Data Science Tools|\n",
    "|------------------|\n",
    "|IBM Watson Studio|\n",
    "|R Studio|\n",
    "|Jupyter Notebook|\n"
   ]
  },
  {
   "cell_type": "markdown",
   "id": "3fc8ea57-78a5-46d7-b41b-13e1556044d3",
   "metadata": {},
   "source": [
    "### Below are a few examples of evaluating arithmetic expressions in Python"
   ]
  },
  {
   "cell_type": "code",
   "execution_count": null,
   "id": "7b6bce96-a931-4748-832a-f0bfa0877531",
   "metadata": {
    "tags": []
   },
   "outputs": [],
   "source": [
    "(3*4)+5\n",
    "# this a simple arithmetic expression to mutiply then add integers\n"
   ]
  },
  {
   "cell_type": "code",
   "execution_count": null,
   "id": "465ce091-819e-454e-8d65-f762199badbd",
   "metadata": {
    "tags": []
   },
   "outputs": [],
   "source": [
    "minutes = 200\n",
    "hours = minutes/60\n",
    "# This will convert 200 minutes to hours by diving by 60\n",
    "print(hours)"
   ]
  },
  {
   "cell_type": "markdown",
   "id": "b5299afa-48ed-47a8-9153-5439aeab066b",
   "metadata": {},
   "source": [
    "##### Objectives:\n",
    "- List Popular Data Science Languages\n",
    "- List commonly used Data Science Libraries\n",
    "- List Data Science tools for development\n",
    "- Learn the execution of arithmetic expression in Jupyter notebook"
   ]
  },
  {
   "cell_type": "markdown",
   "id": "a804512c-3935-4d26-979e-80c0e197582c",
   "metadata": {},
   "source": [
    "## Author\n",
    "Havinash P H\n"
   ]
  },
  {
   "cell_type": "code",
   "execution_count": null,
   "id": "f704acc9-705f-4847-a30d-1e0b7ab99c1f",
   "metadata": {},
   "outputs": [],
   "source": []
  }
 ],
 "metadata": {
  "kernelspec": {
   "display_name": "Python",
   "language": "python",
   "name": "conda-env-python-py"
  },
  "language_info": {
   "codemirror_mode": {
    "name": "ipython",
    "version": 3
   },
   "file_extension": ".py",
   "mimetype": "text/x-python",
   "name": "python",
   "nbconvert_exporter": "python",
   "pygments_lexer": "ipython3",
   "version": "3.7.12"
  }
 },
 "nbformat": 4,
 "nbformat_minor": 5
}
